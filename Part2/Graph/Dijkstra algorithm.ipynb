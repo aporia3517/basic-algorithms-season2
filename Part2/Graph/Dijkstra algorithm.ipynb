{
 "cells": [
  {
   "cell_type": "markdown",
   "metadata": {},
   "source": [
    "#다익스트라 알고리즘\n",
    "\n",
    "* 특정 시작 노드로 부터 모든 다른 노드의 shortest path 을 찾는 알고리즘\n",
    "* 알고리즘은 BFS 랑 비슷하다고도 볼수 있다. 아마 특정 노드를 pick 하면 그 노드와 연결된 모든  노드에 대해서 확인을 하기 때문인듯\n",
    "* 시작 노드로 부터 각 노드로 가는 비용을 각 노드는 저장하고 있다.\n",
    "\n",
    "## 알고리즘\n",
    "\n",
    "1. 모든 노드에 비용을 초기화 한다. 이때 초기 비용은 MAX 로 설정\n",
    "2. 시작 노드의 비용을 0 으로 설정 한다.\n",
    "3. 선택한적 없는 노드들 중 비용이 가장 작은 노드를 선택\n",
    "4. 3 에서 선택한 노드와 Edge가 연결 되어 있는 노드들에 접근\n",
    "5. 접근시 해당 노드에 접근하기 위한 비용을 계산 ( 선택노드 비용 + 연결되어 있는 노드로 움직이는 비용(거리) )\n",
    "6. 4번에서 접근한 노드 설정된 비용과 5번에서 계산한 비용을 비교\n",
    "7. 6번 에서 비교한 비용중 작은 값으로 변경\n",
    "8. 다른 연결 노드가 존재 하면 4번부터 작업을 수행\n",
    "9. 다른 연결 노드가 존재하지 않으면 3번 부터 작업을 수행\n",
    "\n",
    "![](img/dijkstraa.png \"\")\n",
    "![](img/dijkstrab.png \"\")\n",
    "![](img/dijkstrac.png \"\")\n",
    "![](img/dijkstrad.png \"\")\n",
    "![](img/dijkstrae.png \"\")\n",
    "![](img/dijkstraf.png \"\")\n",
    "\n",
    "## 주위점\n",
    "* 각 노드간의 거리가 양수인경우만 적용 가능\n",
    "* 각 노드간의 거리가 음수이면 영원히 다익스트라 알고리즘이 끝나지 않는다."
   ]
  },
  {
   "cell_type": "code",
   "execution_count": 1,
   "metadata": {
    "collapsed": true
   },
   "outputs": [],
   "source": [
    "def dijkstra(aGraph,start):\n",
    "    \n",
    "    pq = PriorityQueue()\n",
    "    start.setDistance(0)\n",
    "    pq.buildHeap([(v.getDistance(),v) for v in aGraph])\n",
    "    \n",
    "    while not pq.isEmpty():\n",
    "        currentVert = pq.delMin()                        # Step 3\n",
    "        \n",
    "        for nextVert in currentVert.getConnections():    # Step 4\n",
    "            newDist = currentVert.getDistance() \\\n",
    "                    + currentVert.getWeight(nextVert)    # Step 5\n",
    "                \n",
    "            if newDist < nextVert.getDistance():         # Step 6\n",
    "                nextVert.setDistance( newDist )\n",
    "                nextVert.setPred(currentVert)\n",
    "                pq.decreaseKey(nextVert,newDist)"
   ]
  },
  {
   "cell_type": "markdown",
   "metadata": {},
   "source": [
    "From http://interactivepython.org/runestone/static/pythonds/Graphs/DijkstrasAlgorithm.html"
   ]
  }
 ],
 "metadata": {
  "kernelspec": {
   "display_name": "Python 2",
   "language": "python",
   "name": "python2"
  },
  "language_info": {
   "codemirror_mode": {
    "name": "ipython",
    "version": 2
   },
   "file_extension": ".py",
   "mimetype": "text/x-python",
   "name": "python",
   "nbconvert_exporter": "python",
   "pygments_lexer": "ipython2",
   "version": "2.7.10"
  }
 },
 "nbformat": 4,
 "nbformat_minor": 0
}
