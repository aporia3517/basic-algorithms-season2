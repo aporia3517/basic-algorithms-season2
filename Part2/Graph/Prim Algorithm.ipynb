{
 "cells": [
  {
   "cell_type": "markdown",
   "metadata": {},
   "source": [
    "# Prim 알고리즘\n",
    "\n",
    "## spanning tree\n",
    "모든 노드(꼭짓점)를 포함하는 트리로 구성된 것 ( 그래프에서 )\n",
    "\n",
    "## minimum cost spanning tree ( 최소 비용 신장 트리 )\n",
    "그래프에서 여러 신장 트리를 생성 할수 있는데 그중 비용이 최소로 되는 트리\n",
    "\n",
    "## 알고리즘 (from wiki)\n",
    "1. 그래프에서 하나의 꼭짓점을 선택하여 트리를 만든다.\n",
    "2. 그래프의 모든 변이 들어 있는 집합을 만든다.\n",
    "3. 트리와 연결된 변 가운데 트리 속의 두 꼭짓점을 연결하지 않는 가장 가중치가 작은 변을 트리에 추가\n",
    "3. 모든 꼭짓점이 트리에 포함되어 있지 않으면 3번 작업을 수행 한다.\n",
    "\n",
    "![](img/prima.png \"\")\n",
    "![](img/primb.png \"\")\n",
    "![](img/primc.png \"\")\n",
    "![](img/primd.png \"\")\n",
    "![](img/prime.png \"\")\n",
    "![](img/primg.png \"\")"
   ]
  },
  {
   "cell_type": "code",
   "execution_count": null,
   "metadata": {
    "collapsed": true
   },
   "outputs": [],
   "source": [
    "def prim(G,start):\n",
    "    pq = PriorityQueue()\n",
    "    for v in G:\n",
    "        v.setDistance(sys.maxsize)\n",
    "        v.setPred(None)\n",
    "    start.setDistance(0)\n",
    "    pq.buildHeap([(v.getDistance(),v) for v in G])\n",
    "    while not pq.isEmpty():\n",
    "        currentVert = pq.delMin()\n",
    "        for nextVert in currentVert.getConnections():\n",
    "          newCost = currentVert.getWeight(nextVert)\n",
    "          if nextVert in pq and newCost < nextVert.getDistance():\n",
    "              nextVert.setPred(currentVert)\n",
    "              nextVert.setDistance(newCost)\n",
    "              pq.decreaseKey(nextVert,newCost)"
   ]
  },
  {
   "cell_type": "markdown",
   "metadata": {},
   "source": [
    "From http://interactivepython.org/runestone/static/pythonds/Graphs/PrimsSpanningTreeAlgorithm.html"
   ]
  },
  {
   "cell_type": "code",
   "execution_count": 2,
   "metadata": {
    "collapsed": false
   },
   "outputs": [
    {
     "name": "stdout",
     "output_type": "stream",
     "text": [
      "3\n"
     ]
    }
   ],
   "source": [
    "print 2 + 1"
   ]
  },
  {
   "cell_type": "code",
   "execution_count": null,
   "metadata": {
    "collapsed": true
   },
   "outputs": [],
   "source": []
  }
 ],
 "metadata": {
  "kernelspec": {
   "display_name": "Python 2",
   "language": "python",
   "name": "python2"
  },
  "language_info": {
   "codemirror_mode": {
    "name": "ipython",
    "version": 2
   },
   "file_extension": ".py",
   "mimetype": "text/x-python",
   "name": "python",
   "nbconvert_exporter": "python",
   "pygments_lexer": "ipython2",
   "version": "2.7.10"
  }
 },
 "nbformat": 4,
 "nbformat_minor": 0
}
