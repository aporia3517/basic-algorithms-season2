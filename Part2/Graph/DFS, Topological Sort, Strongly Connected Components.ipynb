{
 "cells": [
  {
   "cell_type": "code",
   "execution_count": 60,
   "metadata": {
    "collapsed": false
   },
   "outputs": [],
   "source": [
    "class Vertex:\n",
    "    def __init__(self,key):\n",
    "        self.id = key\n",
    "        self.connectedTo = {}\n",
    "        self.color =''\n",
    "        self.predecessor = ''\n",
    "        self.discovery = ''\n",
    "        self.finishTime = ''\n",
    "\n",
    "    def addNeighbor(self,nbr,weight=0):\n",
    "        self.connectedTo[nbr] = weight\n",
    "\n",
    "    def __str__(self):\n",
    "        return str(self.id) + ' connectedTo: ' + str([x.id for x in self.connectedTo]) +' Finish Time :' + str(self.finishTime)\n",
    "\n",
    "    def getConnections(self):\n",
    "        return self.connectedTo.keys()\n",
    "\n",
    "    def getId(self):\n",
    "        return self.id\n",
    "\n",
    "    def getWeight(self,nbr):\n",
    "        return self.connectedTo[nbr]\n",
    " \n",
    "    # add user-defined function\n",
    "    def setColor(self,color) :\n",
    "        self.color = color\n",
    "\n",
    "    def getColor(self) :\n",
    "        return self.color\n",
    "    \n",
    "    def setPred(self, vertex) :\n",
    "        self.predecessor = vertex\n",
    "    \n",
    "    def getPred(self) :\n",
    "        return self.predecessor\n",
    "    \n",
    "    def setDiscovery(self, time) :\n",
    "        self.discovery = time\n",
    "        \n",
    "    def getDiscovery(self) :\n",
    "        return self.discovery\n",
    "    \n",
    "    def setFinish(self,time) :\n",
    "        self.finishTime = time\n",
    "        \n",
    "    def getFinish(self) :\n",
    "        return self.finishTime"
   ]
  },
  {
   "cell_type": "code",
   "execution_count": 72,
   "metadata": {
    "collapsed": false
   },
   "outputs": [],
   "source": [
    "class Graph:\n",
    "    def __init__(self):\n",
    "        self.vertList = {}\n",
    "        self.numVertices = 0\n",
    "\n",
    "    def addVertex(self,key):\n",
    "        self.numVertices = self.numVertices + 1\n",
    "        newVertex = Vertex(key)\n",
    "        self.vertList[key] = newVertex\n",
    "        return newVertex\n",
    "\n",
    "    def getVertex(self,n):\n",
    "        if n in self.vertList:\n",
    "            return self.vertList[n]\n",
    "        else:\n",
    "            return None\n",
    "\n",
    "    def __contains__(self,n):\n",
    "        return n in self.vertList\n",
    "\n",
    "    def addEdge(self,f,t,cost=0):\n",
    "        if f not in self.vertList:\n",
    "            nv = self.addVertex(f)\n",
    "        if t not in self.vertList:\n",
    "            nv = self.addVertex(t)\n",
    "        self.vertList[f].addNeighbor(self.vertList[t], cost)\n",
    "\n",
    "    def getVertices(self):\n",
    "        return self.vertList.keys()\n",
    "\n",
    "    def __iter__(self):\n",
    "        return iter(self.vertList.values())\n",
    " \n",
    "    # add user-defined function\n",
    "    def printVertexFinish(self) :\n",
    "        for n in self.vertList :\n",
    "            print self.vertList[n]"
   ]
  },
  {
   "cell_type": "markdown",
   "metadata": {},
   "source": [
    "너비 우선 검색\n",
    "\n",
    "깊이 우선 검색 (General Depth First Search)\n",
    "\n",
    "- 깊이 우선 트리로 구성된 깊이 우선 포레스트로 구성 (??? 잘못 이해 한듯)\n",
    "- 선행 정점를 기억 ( ?? 이 책??)\n",
    "- 스택으로 구현 될수 있다. -> recursive function 으로 구현...  \n",
    "- 가장 아래 정점까지 내려 가야 하고 내려 간 이후로는 그 바로 선행 노드를 탐색\n",
    "- 각 정점은 처음에는 흰색, 발견 되었을때는 회색, 종료되었을때는 검정색이 된다.\n",
    "- 각 정점에 발견되었을때 시간과 종료 되었을때 시간을 기록\n",
    "- 이 자체만으로는 최적의 해를 찾지 못한다."
   ]
  },
  {
   "cell_type": "code",
   "execution_count": 73,
   "metadata": {
    "collapsed": false
   },
   "outputs": [],
   "source": [
    "class DFSGraph(Graph):\n",
    "    def __init__(self):\n",
    "        #super(Graph.__class__, self).__init__() \n",
    "        # old stype ?? new style??\n",
    "        Graph.__init__(self)\n",
    "        self.time = 0\n",
    "        \n",
    "    def afterFunc(self, vertex) :\n",
    "        return\n",
    "\n",
    "    def dfs(self):\n",
    "        for aVertex in self:\n",
    "            aVertex.setColor('white')\n",
    "            aVertex.setPred(-1)\n",
    "            \n",
    "        for aVertex in self:\n",
    "            if aVertex.getColor() == 'white':\n",
    "                self.dfsvisit(aVertex)\n",
    "\n",
    "    def dfsvisit(self, startVertex):\n",
    "        startVertex.setColor('gray')\n",
    "        self.time += 1\n",
    "        startVertex.setDiscovery(self.time)\n",
    "        \n",
    "        for nextVertex in startVertex.getConnections():\n",
    "            if nextVertex.getColor() == 'white':\n",
    "                nextVertex.setPred(startVertex)\n",
    "                self.dfsvisit(nextVertex)\n",
    "                \n",
    "        startVertex.setColor('black')\n",
    "        self.time += 1\n",
    "        #print startVertex, self.time\n",
    "        startVertex.setFinish(self.time)\n",
    "        \n",
    "        # ... decorator?\n",
    "        self.afterFunc(startVertex)"
   ]
  },
  {
   "cell_type": "markdown",
   "metadata": {},
   "source": []
  },
  {
   "cell_type": "code",
   "execution_count": 74,
   "metadata": {
    "collapsed": false
   },
   "outputs": [
    {
     "name": "stdout",
     "output_type": "stream",
     "text": [
      "0 connectedTo: [1, 3] Finish Time :12\n",
      "1 connectedTo: [2, 3] Finish Time :11\n",
      "2 connectedTo: [] Finish Time :4\n",
      "3 connectedTo: [4] Finish Time :10\n",
      "4 connectedTo: [1, 5] Finish Time :9\n",
      "5 connectedTo: [2] Finish Time :8\n"
     ]
    }
   ],
   "source": [
    "g = DFSGraph()\n",
    "for i in range(6) :\n",
    "    g.addVertex(i)\n",
    "    \n",
    "g.addEdge(0, 1)\n",
    "g.addEdge(0, 3)\n",
    "g.addEdge(1, 2)\n",
    "g.addEdge(1, 3)\n",
    "g.addEdge(3, 4)\n",
    "g.addEdge(4, 1)\n",
    "g.addEdge(4, 5)\n",
    "g.addEdge(5, 2)\n",
    "\n",
    "g.dfs()\n",
    "g.printVertexFinish()\n"
   ]
  },
  {
   "cell_type": "markdown",
   "metadata": {},
   "source": [
    "\n"
   ]
  },
  {
   "cell_type": "markdown",
   "metadata": {},
   "source": [
    "Topological Sort (위상정렬)\n",
    "1. 각 정점 v 에 대한 종료 시간을 계산하기 위하여 DFS 를 호출\n",
    "2. 각 정점이 종료 될때 마다 연결 리스트의 맨앞에 삽입\n",
    "3. return 정점의 연결 리스트\n",
    "\n",
    "A->B->C D->B"
   ]
  },
  {
   "cell_type": "code",
   "execution_count": 64,
   "metadata": {
    "collapsed": true
   },
   "outputs": [],
   "source": [
    "class TopologicalSort(DFSGraph):\n",
    "    def __init__(self):\n",
    "        #super(Graph.__class__, self).__init__() \n",
    "        # old stype ?? new style??\n",
    "        DFSGraph.__init__(self)\n",
    "        self.time = 0\n",
    "        self.sortedList = []\n",
    "        \n",
    "    def afterFunc(self, vertex) :\n",
    "        self.sortedList.append( vertex )\n",
    "        \n",
    "    def TopologicalSort(self):\n",
    "        for aVertex in self:\n",
    "            aVertex.setColor('white')\n",
    "            aVertex.setPred(-1)\n",
    "            \n",
    "        for aVertex in self:\n",
    "            if aVertex.getColor() == 'white':\n",
    "                self.dfsvisit(aVertex)\n",
    "                \n",
    "        self.sortedList.reverse()\n",
    "        \n",
    "    def printSortedList(self) :\n",
    "        for vertex in self.sortedList:\n",
    "            print vertex\n",
    "                "
   ]
  },
  {
   "cell_type": "code",
   "execution_count": 65,
   "metadata": {
    "collapsed": false,
    "scrolled": true
   },
   "outputs": [
    {
     "name": "stdout",
     "output_type": "stream",
     "text": [
      "0 connectedTo: [1, 3] Finish Time :12\n",
      "1 connectedTo: [3, 2] Finish Time :11\n",
      "3 connectedTo: [4] Finish Time :10\n",
      "4 connectedTo: [1, 5] Finish Time :9\n",
      "5 connectedTo: [2] Finish Time :8\n",
      "2 connectedTo: [] Finish Time :7\n"
     ]
    }
   ],
   "source": [
    "g = TopologicalSort()\n",
    "for i in range(6) :\n",
    "    g.addVertex(i)\n",
    "    \n",
    "g.addEdge(0, 1)\n",
    "g.addEdge(0, 3)\n",
    "g.addEdge(1, 2)\n",
    "g.addEdge(1, 3)\n",
    "g.addEdge(3, 4)\n",
    "g.addEdge(4, 1)\n",
    "g.addEdge(4, 5)\n",
    "g.addEdge(5, 2)\n",
    "\n",
    "g.TopologicalSort()\n",
    "g.printSortedList()"
   ]
  },
  {
   "cell_type": "markdown",
   "metadata": {},
   "source": [
    "Strongly Connected Conponents\n",
    "- Graph 안에서 서로 왕복 할수 있는 정접들의 최대 크기\n",
    "\n",
    "\n",
    "1. 각 정점에 대해 종료 시간을 계산하기 위해 DFS 를 호출\n",
    "2. Gt 를 계산 (Gt 는 정점의 모든 간선이 반대로 되는 그래프)\n",
    "3. DFS(Gt) 를 호출 그러나 DFS 의 주요 루프에서 종료시간이 높은 정점부터 고려\n",
    "4. 분리된 강한 연결 요소로서 3행에서 형성된 깊이 우선 포리스트에 있는 각 트리의 정점을 출력"
   ]
  }
 ],
 "metadata": {
  "kernelspec": {
   "display_name": "Python 2",
   "language": "python",
   "name": "python2"
  },
  "language_info": {
   "codemirror_mode": {
    "name": "ipython",
    "version": 2
   },
   "file_extension": ".py",
   "mimetype": "text/x-python",
   "name": "python",
   "nbconvert_exporter": "python",
   "pygments_lexer": "ipython2",
   "version": "2.7.10"
  }
 },
 "nbformat": 4,
 "nbformat_minor": 0
}
